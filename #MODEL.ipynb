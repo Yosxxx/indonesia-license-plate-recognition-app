{
 "cells": [
  {
   "cell_type": "code",
   "execution_count": 3,
   "id": "e20a6b6e",
   "metadata": {},
   "outputs": [
    {
     "name": "stdout",
     "output_type": "stream",
     "text": [
      "\n",
      "image 1/1 c:\\Users\\Yosua\\Desktop\\web-app-ILPR\\frontend\\images\\1.jpg: 736x1280 1 License_Plate, 48.5ms\n",
      "Speed: 7.1ms preprocess, 48.5ms inference, 93.3ms postprocess per image at shape (1, 3, 736, 1280)\n",
      "\n",
      "image 1/1 c:\\Users\\Yosua\\Desktop\\web-app-ILPR\\frontend\\images\\2.png: 608x1280 1 License_Plate, 52.4ms\n",
      "Speed: 0.0ms preprocess, 52.4ms inference, 0.0ms postprocess per image at shape (1, 3, 608, 1280)\n",
      "\n",
      "image 1/1 c:\\Users\\Yosua\\Desktop\\web-app-ILPR\\frontend\\images\\3.png: 1152x1280 1 License_Plate, 43.2ms\n",
      "Speed: 15.0ms preprocess, 43.2ms inference, 0.0ms postprocess per image at shape (1, 3, 1152, 1280)\n",
      "\n",
      "image 1/1 c:\\Users\\Yosua\\Desktop\\web-app-ILPR\\frontend\\images\\4.jpg: 960x1280 1 License_Plate, 37.2ms\n",
      "Speed: 14.2ms preprocess, 37.2ms inference, 2.0ms postprocess per image at shape (1, 3, 960, 1280)\n",
      "\n",
      "image 1/1 c:\\Users\\Yosua\\Desktop\\web-app-ILPR\\frontend\\images\\5.jpg: 960x1280 1 License_Plate, 16.2ms\n",
      "Speed: 13.5ms preprocess, 16.2ms inference, 15.1ms postprocess per image at shape (1, 3, 960, 1280)\n",
      "✅ Done! Cropped license plates are in: ./crops\n"
     ]
    }
   ],
   "source": [
    "from ultralytics import YOLO\n",
    "import cv2, os\n",
    "\n",
    "# --- 1. Load your trained model ---\n",
    "model = YOLO(\"./models/best.pt\")   \n",
    "\n",
    "# --- 2. Directories ---\n",
    "IMG_DIR = \"./images\"             \n",
    "OUT_DIR = \"./crops\"       \n",
    "os.makedirs(OUT_DIR, exist_ok=True)\n",
    "\n",
    "# --- 3. Run predictions on each image ---\n",
    "for file in sorted(os.listdir(IMG_DIR)):\n",
    "    if file.lower().endswith((\".jpg\",\".png\",\".jpeg\",\".webp\")):\n",
    "        img_path = os.path.join(IMG_DIR, file)\n",
    "        results = model.predict(source=img_path, conf=0.25, imgsz=1280, device=0)\n",
    "\n",
    "        # --- 4. Loop over boxes and crop ---\n",
    "        img = cv2.imread(img_path)\n",
    "        for i, box in enumerate(results[0].boxes.xyxy):\n",
    "            x1,y1,x2,y2 = map(int, box)\n",
    "            crop = img[y1:y2, x1:x2]\n",
    "            save_path = os.path.join(OUT_DIR, f\"{os.path.splitext(file)[0]}_crop{i}.jpg\")\n",
    "            cv2.imwrite(save_path, crop)\n",
    "\n",
    "print(\"✅ Done! Cropped license plates are in:\", OUT_DIR)\n"
   ]
  }
 ],
 "metadata": {
  "kernelspec": {
   "display_name": "Python (conda DeepLearning)",
   "language": "python",
   "name": "conda-deeplearning"
  },
  "language_info": {
   "codemirror_mode": {
    "name": "ipython",
    "version": 3
   },
   "file_extension": ".py",
   "mimetype": "text/x-python",
   "name": "python",
   "nbconvert_exporter": "python",
   "pygments_lexer": "ipython3",
   "version": "3.10.18"
  }
 },
 "nbformat": 4,
 "nbformat_minor": 5
}
