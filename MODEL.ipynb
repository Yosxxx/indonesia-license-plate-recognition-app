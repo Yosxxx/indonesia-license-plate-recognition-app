{
 "cells": [
  {
   "cell_type": "code",
   "execution_count": 1,
   "id": "e20a6b6e",
   "metadata": {},
   "outputs": [
    {
     "name": "stdout",
     "output_type": "stream",
     "text": [
      "\n",
      "image 1/1 c:\\Users\\Yosua\\Desktop\\web-app-ILPR\\frontend\\1.jpg: 736x1280 1 License_Plate, 61.6ms\n",
      "Speed: 7.9ms preprocess, 61.6ms inference, 89.7ms postprocess per image at shape (1, 3, 736, 1280)\n",
      "\n",
      "image 1/1 c:\\Users\\Yosua\\Desktop\\web-app-ILPR\\frontend\\2.png: 608x1280 1 License_Plate, 47.9ms\n",
      "Speed: 6.9ms preprocess, 47.9ms inference, 2.0ms postprocess per image at shape (1, 3, 608, 1280)\n",
      "\n",
      "image 1/1 c:\\Users\\Yosua\\Desktop\\web-app-ILPR\\frontend\\3.png: 1152x1280 1 License_Plate, 46.8ms\n",
      "Speed: 10.7ms preprocess, 46.8ms inference, 1.1ms postprocess per image at shape (1, 3, 1152, 1280)\n",
      "\n",
      "image 1/1 c:\\Users\\Yosua\\Desktop\\web-app-ILPR\\frontend\\4.jpg: 960x1280 1 License_Plate, 37.4ms\n",
      "Speed: 11.2ms preprocess, 37.4ms inference, 2.0ms postprocess per image at shape (1, 3, 960, 1280)\n",
      "\n",
      "image 1/1 c:\\Users\\Yosua\\Desktop\\web-app-ILPR\\frontend\\5.jpg: 960x1280 1 License_Plate, 37.9ms\n",
      "Speed: 11.6ms preprocess, 37.9ms inference, 1.3ms postprocess per image at shape (1, 3, 960, 1280)\n",
      "✅ Done! Cropped license plates are in: ./crops\n"
     ]
    }
   ],
   "source": [
    "from ultralytics import YOLO\n",
    "import cv2, os\n",
    "\n",
    "# --- 1. Load your trained model ---\n",
    "model = YOLO(\"best.pt\")   # 20 epochs checkpoint\n",
    "\n",
    "# --- 2. Directories ---\n",
    "IMG_DIR = \".\"             # current folder with 0.jpg … 20.jpg\n",
    "OUT_DIR = \"./crops\"       # where cropped plates will be saved\n",
    "os.makedirs(OUT_DIR, exist_ok=True)\n",
    "\n",
    "# --- 3. Run predictions on each image ---\n",
    "for file in sorted(os.listdir(IMG_DIR)):\n",
    "    if file.lower().endswith((\".jpg\",\".png\",\".jpeg\",\".webp\")):\n",
    "        img_path = os.path.join(IMG_DIR, file)\n",
    "        results = model.predict(source=img_path, conf=0.25, imgsz=1280, device=0)\n",
    "\n",
    "        # --- 4. Loop over boxes and crop ---\n",
    "        img = cv2.imread(img_path)\n",
    "        for i, box in enumerate(results[0].boxes.xyxy):\n",
    "            x1,y1,x2,y2 = map(int, box)\n",
    "            crop = img[y1:y2, x1:x2]\n",
    "            save_path = os.path.join(OUT_DIR, f\"{os.path.splitext(file)[0]}_crop{i}.jpg\")\n",
    "            cv2.imwrite(save_path, crop)\n",
    "\n",
    "print(\"✅ Done! Cropped license plates are in:\", OUT_DIR)\n"
   ]
  }
 ],
 "metadata": {
  "kernelspec": {
   "display_name": "Python (conda DeepLearning)",
   "language": "python",
   "name": "conda-deeplearning"
  },
  "language_info": {
   "codemirror_mode": {
    "name": "ipython",
    "version": 3
   },
   "file_extension": ".py",
   "mimetype": "text/x-python",
   "name": "python",
   "nbconvert_exporter": "python",
   "pygments_lexer": "ipython3",
   "version": "3.10.18"
  }
 },
 "nbformat": 4,
 "nbformat_minor": 5
}
