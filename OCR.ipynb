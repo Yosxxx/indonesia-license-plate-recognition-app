{
 "cells": [
  {
   "cell_type": "code",
   "execution_count": 1,
   "id": "645b82e7",
   "metadata": {},
   "outputs": [],
   "source": [
    "import os, glob, re, cv2\n",
    "import numpy as np"
   ]
  },
  {
   "cell_type": "code",
   "execution_count": 2,
   "id": "7f384a72",
   "metadata": {},
   "outputs": [
    {
     "name": "stdout",
     "output_type": "stream",
     "text": [
      "Loaded 5 images\n"
     ]
    }
   ],
   "source": [
    "import os, glob, cv2\n",
    "\n",
    "CROPS_DIR = \"crops\"\n",
    "\n",
    "# store tuples: (filename, bgr_image)\n",
    "images = []\n",
    "for ext in (\"*.jpg\", \"*.jpeg\", \"*.png\"):\n",
    "    for path in glob.glob(os.path.join(CROPS_DIR, ext)):\n",
    "        bgr = cv2.imread(path)\n",
    "        if bgr is None:\n",
    "            continue\n",
    "        images.append((os.path.basename(path), bgr))\n",
    "\n",
    "print(f\"Loaded {len(images)} images\")\n"
   ]
  },
  {
   "cell_type": "code",
   "execution_count": 3,
   "id": "c493abfb",
   "metadata": {},
   "outputs": [
    {
     "name": "stdout",
     "output_type": "stream",
     "text": [
      "*************** EP Error ***************\n",
      "EP Error D:\\a\\_work\\1\\s\\onnxruntime\\python\\onnxruntime_pybind_state.cc:505 onnxruntime::python::RegisterTensorRTPluginsAsCustomOps Please install TensorRT libraries as mentioned in the GPU requirements page, make sure they're in the PATH or LD_LIBRARY_PATH, and that your GPU is supported.\n",
      " when using ['TensorrtExecutionProvider', 'CUDAExecutionProvider', 'CPUExecutionProvider']\n",
      "Falling back to ['CPUExecutionProvider'] and retrying.\n",
      "****************************************\n",
      "1_crop0.jpg -> Plate: B 1970 SSW\n",
      "2_crop0.jpg -> Plate: B 1037 SPW\n",
      "3_crop0.jpg -> Plate: B 1308 RFI\n",
      "4_crop0.jpg -> Plate: B 188 BA\n",
      "5_crop0.jpg -> Plate: CD 7528 A\n"
     ]
    }
   ],
   "source": [
    "import re\n",
    "from fast_plate_ocr import LicensePlateRecognizer\n",
    "\n",
    "ocr = LicensePlateRecognizer(\"cct-xs-v1-global-model\")\n",
    "\n",
    "PLATE_RE  = re.compile(r'^([A-Z]{1,2})(\\d{1,4})([A-Z]{1,3})$')\n",
    "DIGIT_FIX = str.maketrans({'O':'0','I':'1','Z':'2','S':'5','B':'8','G':'6','Q':'0'})\n",
    "\n",
    "def normalize(raw):\n",
    "    if not raw:\n",
    "        return None\n",
    "    canon = re.sub(r'[^A-Za-z0-9]', '', raw).upper()\n",
    "    m = PLATE_RE.match(canon)\n",
    "    if not m:\n",
    "        return None\n",
    "    prefix, digits, suffix = m.groups()\n",
    "    digits = digits.translate(DIGIT_FIX)\n",
    "    return f\"{prefix} {digits} {suffix}\"\n",
    "\n",
    "plate_result = {}  # fname -> normalized/raw plate string\n",
    "\n",
    "for fname, bgr in images:\n",
    "    texts = ocr.run(bgr) or []\n",
    "    raw = texts[0] if texts else \"\"\n",
    "    plate = normalize(raw) or raw or \"-\"\n",
    "    plate_result[fname] = plate\n",
    "    print(f\"{fname} -> Plate: {plate}\")\n"
   ]
  },
  {
   "cell_type": "code",
   "execution_count": 4,
   "id": "73428ed9",
   "metadata": {},
   "outputs": [
    {
     "name": "stdout",
     "output_type": "stream",
     "text": [
      "1_crop0.jpg -> Expiry: 05-21\n",
      "2_crop0.jpg -> Expiry: 07-25\n",
      "3_crop0.jpg -> Expiry: 02-19\n",
      "4_crop0.jpg -> Expiry: 01-26\n",
      "5_crop0.jpg -> Expiry: 09-24\n"
     ]
    }
   ],
   "source": [
    "import re, cv2\n",
    "import easyocr\n",
    "\n",
    "# MM-YY with flexible separators\n",
    "EXPIRY_RE = re.compile(r'(0[1-9]|1[0-2])\\s*[-./·:_,| ]\\s*([0-9]{2})')\n",
    "\n",
    "# Reader (set gpu=False if no CUDA)\n",
    "reader = easyocr.Reader(['en'], gpu=True)\n",
    "EASYOCR_CFGS = [\n",
    "    dict(detail=0, paragraph=True, contrast_ths=0.1, adjust_contrast=0.7, text_threshold=0.4, low_text=0.3),\n",
    "    dict(detail=0, paragraph=True, contrast_ths=0.05, adjust_contrast=0.9, text_threshold=0.3, low_text=0.2),\n",
    "]\n",
    "\n",
    "def crop_band_candidates(bgr):\n",
    "    \"\"\"Yield several bottom-band crops + small vertical slide to catch misplacement.\"\"\"\n",
    "    h, w = bgr.shape[:2]\n",
    "    for start in (0.55, 0.60, 0.65, 0.70):\n",
    "        y1 = int(h * start)\n",
    "        y2 = h\n",
    "        pad = max(2, h // 50)\n",
    "        y1 = max(0, y1 - pad)\n",
    "        band = bgr[y1:y2, :]\n",
    "        if band.size > 0:\n",
    "            yield band\n",
    "            slide = max(2, int(0.05 * h))\n",
    "            y1s = max(0, y1 - slide)\n",
    "            y2s = min(h, y2 - slide)\n",
    "            if y2s > y1s:\n",
    "                band_s = bgr[y1s:y2s, :]\n",
    "                if band_s.size > 0:\n",
    "                    yield band_s\n",
    "\n",
    "def upscale_color(img, scale=3):\n",
    "    \"\"\"Upscale color image to help OCR.\"\"\"\n",
    "    h, w = img.shape[:2]\n",
    "    return cv2.resize(img, (w*scale, h*scale), interpolation=cv2.INTER_CUBIC)\n",
    "\n",
    "def best_expiry_from_texts(texts):\n",
    "    blob = \" \".join(t for t in texts if t)\n",
    "    blob = (blob.replace(\"O\",\"0\").replace(\"o\",\"0\")\n",
    "                 .replace(\"S\",\"5\").replace(\"I\",\"1\"))\n",
    "    m = EXPIRY_RE.search(blob)\n",
    "    if not m:\n",
    "        return None\n",
    "    mm, yy = m.groups()\n",
    "    return f\"{int(mm):02d}-{int(yy):02d}\"\n",
    "\n",
    "def read_expiry_color_only(bgr):\n",
    "    \"\"\"Try multiple color bands; no grayscale/threshold variants.\"\"\"\n",
    "    for band in crop_band_candidates(bgr):\n",
    "        big = upscale_color(band, scale=3)\n",
    "        for cfg in EASYOCR_CFGS:\n",
    "            try:\n",
    "                texts = reader.readtext(big, **cfg) or []\n",
    "            except Exception:\n",
    "                continue\n",
    "            exp = best_expiry_from_texts(texts)\n",
    "            if exp:\n",
    "                return exp\n",
    "    return None\n",
    "\n",
    "expiry_result = {}  # fname -> \"MM-YY\" or \"-\"\n",
    "\n",
    "for fname, bgr in images:\n",
    "    exp = read_expiry_color_only(bgr) or \"-\"\n",
    "    expiry_result[fname] = exp\n",
    "    print(f\"{fname} -> Expiry: {expiry_result[fname]}\")\n"
   ]
  }
 ],
 "metadata": {
  "kernelspec": {
   "display_name": "Python (conda DeepLearning)",
   "language": "python",
   "name": "conda-deeplearning"
  },
  "language_info": {
   "codemirror_mode": {
    "name": "ipython",
    "version": 3
   },
   "file_extension": ".py",
   "mimetype": "text/x-python",
   "name": "python",
   "nbconvert_exporter": "python",
   "pygments_lexer": "ipython3",
   "version": "3.10.18"
  }
 },
 "nbformat": 4,
 "nbformat_minor": 5
}
